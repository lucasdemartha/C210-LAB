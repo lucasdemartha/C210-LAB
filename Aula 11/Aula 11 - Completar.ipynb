{
 "cells": [
  {
   "cell_type": "markdown",
   "id": "9d4efe1b",
   "metadata": {},
   "source": [
    "# Lógica Fuzzy - Parte 2"
   ]
  },
  {
   "cell_type": "markdown",
   "id": "267d5c12",
   "metadata": {},
   "source": [
    "## Sistema SISO"
   ]
  },
  {
   "cell_type": "code",
   "execution_count": null,
   "id": "d8f7805b",
   "metadata": {},
   "outputs": [],
   "source": [
    "#!pip install scikit-fuzzy\n",
    "\n",
    "import numpy as np\n",
    "import skfuzzy as fuzzy\n",
    "import skfuzzy.control as control"
   ]
  },
  {
   "cell_type": "markdown",
   "id": "68fd08a5",
   "metadata": {},
   "source": [
    "## Criando o Antescendent (Entrada de dados)"
   ]
  },
  {
   "cell_type": "code",
   "execution_count": null,
   "id": "00701d83",
   "metadata": {},
   "outputs": [],
   "source": [
    "# Definindo universo de discurso e nome da variável\n",
    "\n",
    "# Criando função de pertinência triangular -> trimf, trapezoidal -> trapmf\n"
   ]
  },
  {
   "cell_type": "markdown",
   "id": "f731f490",
   "metadata": {},
   "source": [
    "## Criando consequent (Saída de dados)"
   ]
  },
  {
   "cell_type": "code",
   "execution_count": null,
   "id": "05778a2e",
   "metadata": {},
   "outputs": [],
   "source": [
    "# Universo do imposto\n"
   ]
  },
  {
   "cell_type": "markdown",
   "id": "fecb977c",
   "metadata": {},
   "source": [
    "## Conjunto de Regras"
   ]
  },
  {
   "cell_type": "code",
   "execution_count": null,
   "id": "040f587f",
   "metadata": {},
   "outputs": [],
   "source": [
    "\n",
    "# Adicionando regras ao controle\n"
   ]
  },
  {
   "cell_type": "markdown",
   "id": "14f2b07f",
   "metadata": {},
   "source": [
    "## Criando o sistema"
   ]
  },
  {
   "cell_type": "code",
   "execution_count": null,
   "id": "93e86432",
   "metadata": {},
   "outputs": [],
   "source": [
    "# Criando sistema com o controle de imposto\n",
    "\n",
    "# Executando o sistema\n",
    "\n",
    "print(f\"Resultado 'desfuzzificado': {sistema.output['imposto']}\")\n",
    "\n"
   ]
  }
 ],
 "metadata": {
  "kernelspec": {
   "display_name": "Python 3 (ipykernel)",
   "language": "python",
   "name": "python3"
  },
  "language_info": {
   "codemirror_mode": {
    "name": "ipython",
    "version": 3
   },
   "file_extension": ".py",
   "mimetype": "text/x-python",
   "name": "python",
   "nbconvert_exporter": "python",
   "pygments_lexer": "ipython3",
   "version": "3.9.13"
  }
 },
 "nbformat": 4,
 "nbformat_minor": 5
}
