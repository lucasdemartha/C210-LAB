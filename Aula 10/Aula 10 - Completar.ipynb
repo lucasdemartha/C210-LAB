{
 "cells": [
  {
   "cell_type": "markdown",
   "id": "0255bd74",
   "metadata": {},
   "source": [
    "# Lógica Fuzzy"
   ]
  },
  {
   "cell_type": "markdown",
   "id": "9cfad027",
   "metadata": {},
   "source": [
    "* Grau de pertinência: o quanto um elemento 'x' pertence a um conjunto 'A'\n",
    "* Variável: rótulo associado a uma variável linguística\n",
    "* Conjunto de termos: nomes dados aos valores de cada variável\n",
    "* Universo de duscurso: domínio em que cada variável é definida"
   ]
  },
  {
   "cell_type": "markdown",
   "id": "1d5924d7",
   "metadata": {},
   "source": [
    "<img src=\"img1.jpg\" style=width:500px;height:400px/>"
   ]
  },
  {
   "cell_type": "markdown",
   "id": "9568b054",
   "metadata": {},
   "source": [
    "## Funcionamento de um sistema fuzzy"
   ]
  },
  {
   "cell_type": "markdown",
   "id": "e33548a4",
   "metadata": {},
   "source": [
    "<img src=\"img4.jpg\" style=width:500px;height:400px/>"
   ]
  },
  {
   "cell_type": "markdown",
   "id": "98824e56",
   "metadata": {},
   "source": [
    "## Problema da gorjeta"
   ]
  },
  {
   "cell_type": "markdown",
   "id": "e005f637",
   "metadata": {},
   "source": [
    "<img src=\"img2.jpg\" style=width:500px;height:400px/>"
   ]
  },
  {
   "cell_type": "code",
   "execution_count": 5,
   "id": "bb3d2a69",
   "metadata": {},
   "outputs": [],
   "source": [
    "#!pip install scikit-fuzzy\n",
    "\n",
    "import numpy as np\n",
    "import skfuzzy as fuzzy\n",
    "import skfuzzy.control as control"
   ]
  },
  {
   "cell_type": "markdown",
   "id": "a0225cb5",
   "metadata": {},
   "source": [
    "## Criando o Antescendent (Entrada de dados)"
   ]
  },
  {
   "cell_type": "code",
   "execution_count": null,
   "id": "b1cc0583",
   "metadata": {},
   "outputs": [],
   "source": [
    "# Definindo universo de discurso e nome da variável\n",
    "\n",
    "\n",
    "# Criando função de pertinência triangular -> trimf, trapezoidal -> trapmf\n"
   ]
  },
  {
   "cell_type": "markdown",
   "id": "95bdfbb7",
   "metadata": {},
   "source": [
    "## Criando consequent (Saída de dados)"
   ]
  },
  {
   "cell_type": "code",
   "execution_count": null,
   "id": "e2a63e03",
   "metadata": {},
   "outputs": [],
   "source": [
    "# Universo da gorjeta\n"
   ]
  },
  {
   "cell_type": "markdown",
   "id": "3ba7beaa",
   "metadata": {},
   "source": [
    "## Conjunto de Regras"
   ]
  },
  {
   "cell_type": "markdown",
   "id": "7774a3ef",
   "metadata": {},
   "source": [
    "<img src=\"img3.jpg\" style=width:500px;height:50px/>"
   ]
  },
  {
   "cell_type": "code",
   "execution_count": null,
   "id": "ff4563f5",
   "metadata": {},
   "outputs": [],
   "source": [
    "\n",
    "\n",
    "# Adicionando regras ao controle\n"
   ]
  },
  {
   "cell_type": "markdown",
   "id": "a169afe8",
   "metadata": {},
   "source": [
    "## Criando o sistema"
   ]
  },
  {
   "cell_type": "code",
   "execution_count": null,
   "id": "1970b749",
   "metadata": {},
   "outputs": [],
   "source": [
    "# Criando sistema com o controle de gorjeta\n",
    "\n",
    "# Executando o sistema\n",
    "\n",
    "\n",
    "print(f\"Resultado 'desfuzzificado': {sistema.output['gorjeta']}\")\n",
    "\n"
   ]
  }
 ],
 "metadata": {
  "kernelspec": {
   "display_name": "Python 3 (ipykernel)",
   "language": "python",
   "name": "python3"
  },
  "language_info": {
   "codemirror_mode": {
    "name": "ipython",
    "version": 3
   },
   "file_extension": ".py",
   "mimetype": "text/x-python",
   "name": "python",
   "nbconvert_exporter": "python",
   "pygments_lexer": "ipython3",
   "version": "3.9.1"
  }
 },
 "nbformat": 4,
 "nbformat_minor": 5
}
