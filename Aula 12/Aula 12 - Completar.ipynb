{
 "cells": [
  {
   "cell_type": "markdown",
   "id": "73dab853",
   "metadata": {},
   "source": [
    "# Redes Perceptron"
   ]
  },
  {
   "cell_type": "markdown",
   "id": "842a299f",
   "metadata": {},
   "source": [
    "* Utilizada principalmetne na identificação de padrões\n",
    "* Rede feed-forward\n",
    "* Treinamento Supervisionado\n",
    "* Classes devem ser linearmente separáveis"
   ]
  },
  {
   "cell_type": "markdown",
   "id": "a254691f",
   "metadata": {},
   "source": [
    "## Modelo de neurônio"
   ]
  },
  {
   "cell_type": "markdown",
   "id": "738c8d75",
   "metadata": {},
   "source": [
    "<img src=\"neuronio.jpg\" style=width:500px;height:400px/>"
   ]
  },
  {
   "cell_type": "markdown",
   "id": "4b2314d1",
   "metadata": {},
   "source": [
    "## Função de Ativação"
   ]
  },
  {
   "cell_type": "markdown",
   "id": "5b58c309",
   "metadata": {},
   "source": [
    "<img src=\"limiar.jpg\" style=width:500px;height:400px/>"
   ]
  },
  {
   "cell_type": "code",
   "execution_count": 4,
   "id": "5d0c4486",
   "metadata": {},
   "outputs": [
    {
     "data": {
      "image/png": "[encoded data removed]",
      "text/plain": [
       "<Figure size 432x288 with 1 Axes>"
      ]
     },
     "metadata": {
      "needs_background": "light"
     },
     "output_type": "display_data"
    }
   ],
   "source": [
    "import numpy as np\n",
    "import matplotlib.pyplot as plt\n",
    "\n",
    "# Criadno Dataset\n",
    "x = np.array([[5.7, 7.5], [9.3, 5.6], [8.8, 6.9], [6.8, 9.2], [7.9, 9.1],\n",
    "              [8.8, 5.6], [5.6, 7.8], [8.8, 9.0], [7.6, 5.9], [4.9, 8.1],\n",
    "              [6.6, 4.5], [5.2, 7.2], [1.2, 1.2], [2.4, 1.6], [4.7, 2.5],\n",
    "              [0.9, 3.1], [2.6, 4.1], [1.8, 2.0], [4.1, 2.8], [1.8, 1.6],\n",
    "              [1.9, 3.1], [0.8, 3.2], [1.8, 2.9], [3.3, 1.6], [3.7, 2.5]\n",
    "             ])\n",
    "\n",
    "d = np.array([1, 1, 1, 1, 1, 1, 1, 1, 1, 1, 1, 1, -1, -1, -1, -1, -1, -1, -1, -1, -1, -1, -1, -1, -1])\n",
    "\n",
    "plt.figure(figsize=(6,4))\n",
    "plt.title(\"Data points\")\n",
    "plt.scatter(x[:, 0], x[:, 1], c = d, cmap = 'bwr')\n",
    "plt.show()"
   ]
  },
  {
   "cell_type": "code",
   "execution_count": null,
   "id": "e74eacdb",
   "metadata": {},
   "outputs": [],
   "source": [
    "#CRIANDO A CLASSE DA REDE PERCEPTRON\n",
    "class Perceptron:\n",
    "    \n",
    "    def __init__(self, lr, n_epochs):\n",
    "        # Construtor, define taxa de aprendizado e número máximo de épocas\n",
    "        \n",
    "        \n",
    "    def activation(self, value):\n",
    "        # 1 se value > 0, -1 se value < 0, 0 se value == 0 \n",
    "\n",
    "        \n",
    "    def predict(self, x):\n",
    "        # Multiplicação matricial entre as entradas e os pesos somado ao bias proporcional\n",
    "\n",
    "    \n",
    "    def evaluate(self, target, predicted):\n",
    "        # Calcula a diferença entre o valor real e o valor predito\n",
    "\n",
    "    \n",
    "    def train(self, x, d):\n",
    "        # Definir aleatoriamente os pesos, o bias e o peso do bias\n",
    "        # Enquanto houver erro, ou o máximo de épocas não for atingido continua o processo\n",
    "            \n",
    "      \n",
    "            \n",
    "            # Para cada amostra\n",
    "            \n",
    "                \n",
    "                # Se houve erro, atualizar os pesos\n",
    "                \n",
    "    def test(self, x):\n",
    "        ''' Dado uma lista de X, submete-os à rede'''\n",
    "       "
   ]
  },
  {
   "cell_type": "code",
   "execution_count": null,
   "id": "a7dff3f9",
   "metadata": {},
   "outputs": [],
   "source": [
    "# Instanciando e treinando a rede\n"
   ]
  },
  {
   "cell_type": "code",
   "execution_count": null,
   "id": "ab119de8",
   "metadata": {},
   "outputs": [],
   "source": [
    "# Entrando com novos valores para teste\n",
    "# Entrando com novos valores para teste\n",
    "x_teste = np.array([[6, 2], [9, 3], [5, 6], [7, 3], [6, 7], [1, 6]])\n"
   ]
  },
  {
   "cell_type": "code",
   "execution_count": null,
   "id": "3422c048",
   "metadata": {},
   "outputs": [],
   "source": [
    "# Mostrando valores preditos\n",
    "plt.figure(figsize=(12,8))\n",
    "plt.title(\"Data points + Predicted\")\n",
    "plt.scatter(x[:, 0], x[:, 1], c = d, cmap = 'bwr')\n",
    "plt.scatter(x_teste[:, 0], x_teste[:, 1], c = teste_resultado, cmap = 'bwr', marker = \"*\", s=250)\n",
    "plt.show()"
   ]
  },
  {
   "cell_type": "code",
   "execution_count": null,
   "id": "445fdee9",
   "metadata": {},
   "outputs": [],
   "source": [
    "# Mostrando a atualização dos valores de erro \n",
    "plt.figure(figsize=(6,4))\n",
    "plt.title(\"Error\")\n",
    "plt.plot(p.total_error)\n",
    "plt.show()"
   ]
  },
  {
   "cell_type": "code",
   "execution_count": null,
   "id": "af5aaebd",
   "metadata": {},
   "outputs": [],
   "source": [
    "# Mostrando pesos finais\n"
   ]
  }
 ],
 "metadata": {
  "kernelspec": {
   "display_name": "Python 3 (ipykernel)",
   "language": "python",
   "name": "python3"
  },
  "language_info": {
   "codemirror_mode": {
    "name": "ipython",
    "version": 3
   },
   "file_extension": ".py",
   "mimetype": "text/x-python",
   "name": "python",
   "nbconvert_exporter": "python",
   "pygments_lexer": "ipython3",
   "version": "3.9.1"
  }
 },
 "nbformat": 4,
 "nbformat_minor": 5
}
