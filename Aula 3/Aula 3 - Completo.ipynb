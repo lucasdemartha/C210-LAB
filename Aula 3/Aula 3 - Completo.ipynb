{
 "cells": [
  {
   "cell_type": "markdown",
   "id": "d4325821",
   "metadata": {},
   "source": [
    "# Aprendizado de Máquina - Algoritmos de Regressão"
   ]
  },
  {
   "cell_type": "markdown",
   "id": "c61bcf8d",
   "metadata": {},
   "source": [
    "A Regressão é um dos métodos de previsão mais utilizados no meio estatístico, usado para estimar o valor de algo baseado em uma série de outros dados históricos. Como exemplo podemos citar a regressão linear, a decision tree, e o SRV."
   ]
  },
  {
   "cell_type": "markdown",
   "id": "fdef09fa",
   "metadata": {},
   "source": [
    "## Regressão Linear"
   ]
  },
  {
   "cell_type": "markdown",
   "id": "bb4301a9",
   "metadata": {},
   "source": [
    "Sua origem vem da correlação linear, que é a verificação da existência de um relacionamento entre duas variáveis. Ou seja, dado X e Y, quanto que X explica Y. Para isso, a regressão linear utiliza os pontos de dados para encontrar a melhor linha de ajuste para modelar essa relação."
   ]
  },
  {
   "cell_type": "markdown",
   "id": "6238cee8",
   "metadata": {},
   "source": [
    "<img src=\"exemplo.jpg\" style=width:500px;height:400px/>"
   ]
  },
  {
   "cell_type": "markdown",
   "id": "655e1e57",
   "metadata": {},
   "source": [
    "## Exercício"
   ]
  },
  {
   "cell_type": "markdown",
   "id": "967a3b64",
   "metadata": {},
   "source": [
    "### Importando bibliotecas"
   ]
  },
  {
   "cell_type": "code",
   "execution_count": 1,
   "id": "172d32c7",
   "metadata": {},
   "outputs": [],
   "source": [
    "### Análise de dados\n",
    "import pandas as pd\n",
    "import numpy as np\n",
    "import matplotlib.pyplot as plt\n",
    "\n",
    "### Criação do modelo\n",
    "from sklearn.linear_model import LinearRegression\n",
    "from sklearn.model_selection import train_test_split \n",
    "\n",
    "### Avaliação de métricas\n",
    "from sklearn.metrics import mean_squared_error"
   ]
  },
  {
   "cell_type": "markdown",
   "id": "9b1ca16d",
   "metadata": {},
   "source": [
    "### Leitura dos dados"
   ]
  },
  {
   "cell_type": "code",
   "execution_count": 2,
   "id": "c7768731",
   "metadata": {},
   "outputs": [
    {
     "data": {
      "text/html": [
       "<div>\n",
       "<style scoped>\n",
       "    .dataframe tbody tr th:only-of-type {\n",
       "        vertical-align: middle;\n",
       "    }\n",
       "\n",
       "    .dataframe tbody tr th {\n",
       "        vertical-align: top;\n",
       "    }\n",
       "\n",
       "    .dataframe thead th {\n",
       "        text-align: right;\n",
       "    }\n",
       "</style>\n",
       "<table border=\"1\" class=\"dataframe\">\n",
       "  <thead>\n",
       "    <tr style=\"text-align: right;\">\n",
       "      <th></th>\n",
       "      <th>Hours</th>\n",
       "      <th>Scores</th>\n",
       "    </tr>\n",
       "  </thead>\n",
       "  <tbody>\n",
       "    <tr>\n",
       "      <th>0</th>\n",
       "      <td>2.5</td>\n",
       "      <td>21</td>\n",
       "    </tr>\n",
       "    <tr>\n",
       "      <th>1</th>\n",
       "      <td>5.1</td>\n",
       "      <td>47</td>\n",
       "    </tr>\n",
       "    <tr>\n",
       "      <th>2</th>\n",
       "      <td>3.2</td>\n",
       "      <td>27</td>\n",
       "    </tr>\n",
       "    <tr>\n",
       "      <th>3</th>\n",
       "      <td>8.5</td>\n",
       "      <td>75</td>\n",
       "    </tr>\n",
       "    <tr>\n",
       "      <th>4</th>\n",
       "      <td>3.5</td>\n",
       "      <td>30</td>\n",
       "    </tr>\n",
       "  </tbody>\n",
       "</table>\n",
       "</div>"
      ],
      "text/plain": [
       "   Hours  Scores\n",
       "0    2.5      21\n",
       "1    5.1      47\n",
       "2    3.2      27\n",
       "3    8.5      75\n",
       "4    3.5      30"
      ]
     },
     "execution_count": 2,
     "metadata": {},
     "output_type": "execute_result"
    }
   ],
   "source": [
    "data = pd.read_csv(\"student_scores.csv\")\n",
    "data.head() \n",
    "###importando no google collab\n",
    "\n",
    "#import io\n",
    "\n",
    "#from google.colab import files\n",
    "#uploaded = files.upload()\n",
    "\n",
    "#data = pd.read_csv(io.BytesIO(uploaded['student_scores.csv']))\n",
    "#data.head()"
   ]
  },
  {
   "cell_type": "markdown",
   "id": "9f64bed6",
   "metadata": {},
   "source": [
    "### Análise exploratória"
   ]
  },
  {
   "cell_type": "code",
   "execution_count": 3,
   "id": "6df5a360",
   "metadata": {},
   "outputs": [
    {
     "data": {
      "image/png": "[encoded data removed]",
      "text/plain": [
       "<Figure size 640x480 with 1 Axes>"
      ]
     },
     "metadata": {},
     "output_type": "display_data"
    }
   ],
   "source": [
    "plt.rcParams[\"figure.dpi\"] = 100\n",
    "plt.scatter(data[\"Hours\"], data[\"Scores\"], color=\"black\")\n",
    "plt.title(\"Hours vs Scores\")\n",
    "plt.xlabel(\"Hours Studied\")\n",
    "plt.ylabel(\"Scores\")\n",
    "plt.show()"
   ]
  },
  {
   "cell_type": "markdown",
   "id": "15ce039c",
   "metadata": {},
   "source": [
    "### Definição do modelo e treino"
   ]
  },
  {
   "cell_type": "code",
   "execution_count": 4,
   "id": "985eacac",
   "metadata": {},
   "outputs": [],
   "source": [
    "#instanciando modelo\n",
    "linear = LinearRegression()"
   ]
  },
  {
   "cell_type": "code",
   "execution_count": 9,
   "id": "5458cd6f",
   "metadata": {},
   "outputs": [
    {
     "name": "stdout",
     "output_type": "stream",
     "text": [
      "[[2.5]\n",
      " [5.1]\n",
      " [3.2]\n",
      " [8.5]\n",
      " [3.5]\n",
      " [1.5]\n",
      " [9.2]\n",
      " [5.5]\n",
      " [8.3]\n",
      " [2.7]\n",
      " [7.7]\n",
      " [5.9]\n",
      " [4.5]\n",
      " [3.3]\n",
      " [1.1]\n",
      " [8.9]\n",
      " [2.5]\n",
      " [1.9]\n",
      " [6.1]\n",
      " [7.4]\n",
      " [2.7]\n",
      " [4.8]\n",
      " [3.8]\n",
      " [6.9]\n",
      " [7.8]]\n",
      "Tamanho X de treino: (20, 1)\n",
      "Tamanho X de teste: (5, 1)\n",
      "Tamanho y de treino: (20, 1)\n",
      "Tamanho y de teste: (5, 1)\n"
     ]
    }
   ],
   "source": [
    "#Separando dados\n",
    "## Variável preditora\n",
    "x = data[\"Hours\"]\n",
    "x = np.array(x).reshape(-1,1)\n",
    "\n",
    "## Variável alvo\n",
    "y = data[\"Scores\"]\n",
    "y = np.array(y).reshape(-1,1)\n",
    "\n",
    "## Separando treino e teste\n",
    "X_train, X_test, y_train, y_test = train_test_split(x, y, test_size=0.2, random_state = 0)\n",
    "print(f\"Tamanho X de treino: {X_train.shape}\")\n",
    "print(f\"Tamanho X de teste: {X_test.shape}\")\n",
    "print(f\"Tamanho y de treino: {y_train.shape}\")\n",
    "print(f\"Tamanho y de teste: {y_test.shape}\")"
   ]
  },
  {
   "cell_type": "code",
   "execution_count": 7,
   "id": "dc11567a",
   "metadata": {},
   "outputs": [
    {
     "data": {
      "text/plain": [
       "LinearRegression()"
      ]
     },
     "execution_count": 7,
     "metadata": {},
     "output_type": "execute_result"
    }
   ],
   "source": [
    "# Treinando modelos\n",
    "linear.fit(X_train, y_train)"
   ]
  },
  {
   "cell_type": "markdown",
   "id": "efb3e3d5",
   "metadata": {},
   "source": [
    "### Predições"
   ]
  },
  {
   "cell_type": "code",
   "execution_count": 11,
   "id": "608d76c9",
   "metadata": {},
   "outputs": [],
   "source": [
    "#Prevendo valores\n",
    "y_predict = linear.predict(X_test)"
   ]
  },
  {
   "cell_type": "code",
   "execution_count": 12,
   "id": "946f0513",
   "metadata": {},
   "outputs": [
    {
     "data": {
      "image/png": "[encoded data removed]",
      "text/plain": [
       "<Figure size 640x480 with 1 Axes>"
      ]
     },
     "metadata": {},
     "output_type": "display_data"
    }
   ],
   "source": [
    "plt.scatter(data[\"Hours\"], data[\"Scores\"], color=\"green\")\n",
    "plt.scatter(X_test, y_predict, color=\"red\", edgecolors = \"black\")\n",
    "plt.plot(X_test, y_predict, color=\"red\", linewidth=2)\n",
    "plt.show()"
   ]
  },
  {
   "cell_type": "markdown",
   "id": "c63a5048",
   "metadata": {},
   "source": [
    "## Métrica de avaliação"
   ]
  },
  {
   "cell_type": "markdown",
   "id": "2ffcc2ec",
   "metadata": {},
   "source": [
    "### RMSE (Erro quadrático médio)"
   ]
  },
  {
   "cell_type": "markdown",
   "id": "5d549cb4",
   "metadata": {},
   "source": [
    "É comumente usada para expressar a acurácia dos resultados numéricos do modelo. (Quanto maior seu valor, pior o desempenho do modelo)."
   ]
  },
  {
   "cell_type": "markdown",
   "id": "5c4de593",
   "metadata": {},
   "source": [
    "<img src=\"eqm.jpg\" style=width:500px;height:400px/>"
   ]
  },
  {
   "cell_type": "markdown",
   "id": "2a1ec995",
   "metadata": {},
   "source": [
    "Obs:\n",
    "\n",
    "    Overfitting: Quando o RMSE é muito próximo de 0, o sistema se torna \"viciado\", e acaba por se perder e não saber qual caminho seguir.\n",
    "    Underfitting: Quando o RMSE é muito alto, e os dados acabam por não serem suficientes e satisfatórios para predições futuras."
   ]
  },
  {
   "cell_type": "code",
   "execution_count": 10,
   "id": "e54f384c",
   "metadata": {},
   "outputs": [
    {
     "name": "stdout",
     "output_type": "stream",
     "text": [
      "MSE: 21.598769307217406\n"
     ]
    }
   ],
   "source": [
    "#Avaliando o modelo\n",
    "mse = mean_squared_error(y_test, y_predict)\n",
    "print(\"MSE:\", mse)"
   ]
  },
  {
   "cell_type": "markdown",
   "id": "a32dd46d",
   "metadata": {},
   "source": [
    "### Predição do usuário"
   ]
  },
  {
   "cell_type": "code",
   "execution_count": 13,
   "id": "86c043d3",
   "metadata": {},
   "outputs": [
    {
     "name": "stdout",
     "output_type": "stream",
     "text": [
      "Horas estudadas 7.5, terá uma nota 76.34808364625144\n",
      "Horas estudadas 10.0, terá uma nota 101.12472484785702\n",
      "Horas estudadas 8.0, terá uma nota 81.30341188657256\n",
      "Horas estudadas 9.0, terá uma nota 91.2140683672148\n",
      "Horas estudadas 2.0, terá uma nota 21.839473002719163\n"
     ]
    }
   ],
   "source": [
    "pergunta = np.array([7.5,10 ,8 , 9,2]).reshape(-1, 1)\n",
    "resposta = linear.predict(pergunta)\n",
    "\n",
    "for i in range(5):\n",
    "    print(f\"Horas estudadas {pergunta[i][0]}, terá uma nota {resposta[i][0]}\")"
   ]
  }
 ],
 "metadata": {
  "kernelspec": {
   "display_name": "Python 3 (ipykernel)",
   "language": "python",
   "name": "python3"
  },
  "language_info": {
   "codemirror_mode": {
    "name": "ipython",
    "version": 3
   },
   "file_extension": ".py",
   "mimetype": "text/x-python",
   "name": "python",
   "nbconvert_exporter": "python",
   "pygments_lexer": "ipython3",
   "version": "3.9.13"
  }
 },
 "nbformat": 4,
 "nbformat_minor": 5
}
